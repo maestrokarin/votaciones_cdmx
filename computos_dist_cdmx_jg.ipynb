{
 "cells": [
  {
   "cell_type": "code",
   "id": "initial_id",
   "metadata": {
    "collapsed": true,
    "ExecuteTime": {
     "end_time": "2024-06-08T01:25:06.574262Z",
     "start_time": "2024-06-08T01:25:05.855888Z"
    }
   },
   "source": [
    "import requests\n",
    "import pandas as pd"
   ],
   "outputs": [],
   "execution_count": 1
  },
  {
   "metadata": {
    "ExecuteTime": {
     "end_time": "2024-06-08T01:25:06.589516Z",
     "start_time": "2024-06-08T01:25:06.575594Z"
    }
   },
   "cell_type": "code",
   "source": "url=\"https://sicodid2024.iecm.mx/actas_grid_data.php?type=1&item=1&item_2=822&item_3=\"",
   "id": "5df81ea1175fa3fc",
   "outputs": [],
   "execution_count": 2
  },
  {
   "metadata": {
    "ExecuteTime": {
     "end_time": "2024-06-08T01:25:13.788925Z",
     "start_time": "2024-06-08T01:25:13.335929Z"
    }
   },
   "cell_type": "code",
   "source": [
    "response = requests.get(url)\n",
    "data=response.json()"
   ],
   "id": "89548638f3742e65",
   "outputs": [],
   "execution_count": 3
  },
  {
   "metadata": {
    "ExecuteTime": {
     "end_time": "2024-06-08T01:25:25.926042Z",
     "start_time": "2024-06-08T01:25:25.918951Z"
    }
   },
   "cell_type": "code",
   "source": "data.keys()",
   "id": "5ed4d756f09aec1c",
   "outputs": [
    {
     "data": {
      "text/plain": [
       "dict_keys(['value_fields', 'columns', 'data', 'participacion', 'resumen'])"
      ]
     },
     "execution_count": 5,
     "metadata": {},
     "output_type": "execute_result"
    }
   ],
   "execution_count": 5
  },
  {
   "metadata": {
    "ExecuteTime": {
     "end_time": "2024-06-08T01:32:08.837519Z",
     "start_time": "2024-06-08T01:32:08.824405Z"
    }
   },
   "cell_type": "code",
   "source": [
    "seccion=[]\n",
    "distrito=[]\n",
    "tipo_casilla=[]\n",
    "votos_pan=[]\n",
    "votos_pri=[]\n",
    "votos_prd=[]\n",
    "votos_pvem=[]\n",
    "votos_pt=[]\n",
    "votos_mc=[]\n",
    "votos_morena=[]\n",
    "votos_pan_pri_prd=[]\n",
    "votos_pan_pri=[]\n",
    "votos_pan_prd=[]\n",
    "votos_pri_prd=[]\n",
    "votos_pvem_pt_mc=[]\n",
    "votos_pvem_pt=[]\n",
    "votos_pvem_morena=[]\n",
    "votos_pt_morena=[]\n",
    "votos_no_registrados=[]\n",
    "votos_nulos=[]\n",
    "\n",
    "for elementos in data[\"data\"]:\n",
    "    seccion.append(elementos[\"id_seccion\"])\n",
    "    distrito.append(elementos[\"id_distrito\"])\n",
    "    tipo_casilla.append(elementos[\"tipo_casilla\"])\n",
    "    votos_pan.append(elementos[\"votos_part_1\"])\n",
    "    votos_pri.append(elementos[\"votos_part_2\"])\n",
    "    votos_prd.append(elementos[\"votos_part_3\"])\n",
    "    votos_pvem.append(elementos[\"votos_part_4\"])\n",
    "    votos_pt.append(elementos[\"votos_part_5\"])\n",
    "    votos_mc.append(elementos[\"votos_part_6\"])\n",
    "    votos_morena.append(elementos[\"votos_part_7\"])\n",
    "    votos_pan_pri_prd.append(elementos[\"votos_part_10\"])\n",
    "    votos_pan_pri.append(elementos[\"votos_part_11\"])\n",
    "    votos_pan_prd.append(elementos[\"votos_part_12\"])\n",
    "    votos_pri_prd.append(elementos[\"votos_part_13\"])\n",
    "    votos_pvem_pt_mc.append(elementos[\"votos_part_14\"])\n",
    "    votos_pvem_pt.append(elementos[\"votos_part_15\"])\n",
    "    votos_pvem_morena.append(elementos[\"votos_part_16\"])\n",
    "    votos_pt_morena.append(elementos[\"votos_cand_no_reg\"])\n",
    "    votos_no_registrados.append(elementos[\"votos_nulos\"])\n",
    "    \n"
   ],
   "id": "7f3b6d4e0b9dcdf0",
   "outputs": [],
   "execution_count": 16
  },
  {
   "metadata": {
    "ExecuteTime": {
     "end_time": "2024-06-08T01:32:19.681490Z",
     "start_time": "2024-06-08T01:32:19.655303Z"
    }
   },
   "cell_type": "code",
   "source": [
    "df=pd.DataFrame({\"seccion\":seccion,\n",
    "                    \"distrito\":distrito,\n",
    "                    \"tipo_casilla\":tipo_casilla,\n",
    "                    \"votos_pan\":votos_pan,\n",
    "                    \"votos_pri\":votos_pri,\n",
    "                    \"votos_prd\":votos_prd,\n",
    "                    \"votos_pvem\":votos_pvem,\n",
    "                    \"votos_pt\":votos_pt,\n",
    "                    \"votos_mc\":votos_mc,\n",
    "                    \"votos_morena\":votos_morena,\n",
    "                    \"votos_pan_pri_prd\":votos_pan_pri_prd,\n",
    "                    \"votos_pan_pri\":votos_pan_pri,\n",
    "                    \"votos_pan_prd\":votos_pan_prd,\n",
    "                    \"votos_pri_prd\":votos_pri_prd,\n",
    "                    \"votos_pvem_pt_mc\":votos_pvem_pt_mc,\n",
    "                    \"votos_pvem_pt\":votos_pvem_pt,\n",
    "                    \"votos_pvem_morena\":votos_pvem_morena,\n",
    "                    \"votos_pt_morena\":votos_pt_morena,\n",
    "                    \"votos_no_registrados\":votos_no_registrados})\n",
    "df"
   ],
   "id": "ce491f872407056b",
   "outputs": [
    {
     "data": {
      "text/plain": [
       "   seccion  distrito tipo_casilla  votos_pan  votos_pri  votos_prd  \\\n",
       "0      822         1          B01         40          7          9   \n",
       "1      822         1          C01         32          5          7   \n",
       "2      822         1          C02         38         10         12   \n",
       "3      822         1          C03         48          9          7   \n",
       "\n",
       "   votos_pvem  votos_pt  votos_mc  votos_morena  votos_pan_pri_prd  \\\n",
       "0          14        14        24           204                  1   \n",
       "1           6        10        20           204                  4   \n",
       "2          13        10        22           185                  4   \n",
       "3          16         8        24           208                  3   \n",
       "\n",
       "   votos_pan_pri  votos_pan_prd  votos_pri_prd  votos_pvem_pt_mc  \\\n",
       "0              0              0              0                19   \n",
       "1              0              0              0                19   \n",
       "2              0              0              0                22   \n",
       "3              1              1              0                18   \n",
       "\n",
       "   votos_pvem_pt  votos_pvem_morena  votos_pt_morena  votos_no_registrados  \n",
       "0              0                 14                0                     9  \n",
       "1              2                  2                0                    14  \n",
       "2              2                 10                0                    16  \n",
       "3              0                  1                1                    11  "
      ],
      "text/html": [
       "<div>\n",
       "<style scoped>\n",
       "    .dataframe tbody tr th:only-of-type {\n",
       "        vertical-align: middle;\n",
       "    }\n",
       "\n",
       "    .dataframe tbody tr th {\n",
       "        vertical-align: top;\n",
       "    }\n",
       "\n",
       "    .dataframe thead th {\n",
       "        text-align: right;\n",
       "    }\n",
       "</style>\n",
       "<table border=\"1\" class=\"dataframe\">\n",
       "  <thead>\n",
       "    <tr style=\"text-align: right;\">\n",
       "      <th></th>\n",
       "      <th>seccion</th>\n",
       "      <th>distrito</th>\n",
       "      <th>tipo_casilla</th>\n",
       "      <th>votos_pan</th>\n",
       "      <th>votos_pri</th>\n",
       "      <th>votos_prd</th>\n",
       "      <th>votos_pvem</th>\n",
       "      <th>votos_pt</th>\n",
       "      <th>votos_mc</th>\n",
       "      <th>votos_morena</th>\n",
       "      <th>votos_pan_pri_prd</th>\n",
       "      <th>votos_pan_pri</th>\n",
       "      <th>votos_pan_prd</th>\n",
       "      <th>votos_pri_prd</th>\n",
       "      <th>votos_pvem_pt_mc</th>\n",
       "      <th>votos_pvem_pt</th>\n",
       "      <th>votos_pvem_morena</th>\n",
       "      <th>votos_pt_morena</th>\n",
       "      <th>votos_no_registrados</th>\n",
       "    </tr>\n",
       "  </thead>\n",
       "  <tbody>\n",
       "    <tr>\n",
       "      <th>0</th>\n",
       "      <td>822</td>\n",
       "      <td>1</td>\n",
       "      <td>B01</td>\n",
       "      <td>40</td>\n",
       "      <td>7</td>\n",
       "      <td>9</td>\n",
       "      <td>14</td>\n",
       "      <td>14</td>\n",
       "      <td>24</td>\n",
       "      <td>204</td>\n",
       "      <td>1</td>\n",
       "      <td>0</td>\n",
       "      <td>0</td>\n",
       "      <td>0</td>\n",
       "      <td>19</td>\n",
       "      <td>0</td>\n",
       "      <td>14</td>\n",
       "      <td>0</td>\n",
       "      <td>9</td>\n",
       "    </tr>\n",
       "    <tr>\n",
       "      <th>1</th>\n",
       "      <td>822</td>\n",
       "      <td>1</td>\n",
       "      <td>C01</td>\n",
       "      <td>32</td>\n",
       "      <td>5</td>\n",
       "      <td>7</td>\n",
       "      <td>6</td>\n",
       "      <td>10</td>\n",
       "      <td>20</td>\n",
       "      <td>204</td>\n",
       "      <td>4</td>\n",
       "      <td>0</td>\n",
       "      <td>0</td>\n",
       "      <td>0</td>\n",
       "      <td>19</td>\n",
       "      <td>2</td>\n",
       "      <td>2</td>\n",
       "      <td>0</td>\n",
       "      <td>14</td>\n",
       "    </tr>\n",
       "    <tr>\n",
       "      <th>2</th>\n",
       "      <td>822</td>\n",
       "      <td>1</td>\n",
       "      <td>C02</td>\n",
       "      <td>38</td>\n",
       "      <td>10</td>\n",
       "      <td>12</td>\n",
       "      <td>13</td>\n",
       "      <td>10</td>\n",
       "      <td>22</td>\n",
       "      <td>185</td>\n",
       "      <td>4</td>\n",
       "      <td>0</td>\n",
       "      <td>0</td>\n",
       "      <td>0</td>\n",
       "      <td>22</td>\n",
       "      <td>2</td>\n",
       "      <td>10</td>\n",
       "      <td>0</td>\n",
       "      <td>16</td>\n",
       "    </tr>\n",
       "    <tr>\n",
       "      <th>3</th>\n",
       "      <td>822</td>\n",
       "      <td>1</td>\n",
       "      <td>C03</td>\n",
       "      <td>48</td>\n",
       "      <td>9</td>\n",
       "      <td>7</td>\n",
       "      <td>16</td>\n",
       "      <td>8</td>\n",
       "      <td>24</td>\n",
       "      <td>208</td>\n",
       "      <td>3</td>\n",
       "      <td>1</td>\n",
       "      <td>1</td>\n",
       "      <td>0</td>\n",
       "      <td>18</td>\n",
       "      <td>0</td>\n",
       "      <td>1</td>\n",
       "      <td>1</td>\n",
       "      <td>11</td>\n",
       "    </tr>\n",
       "  </tbody>\n",
       "</table>\n",
       "</div>"
      ]
     },
     "execution_count": 17,
     "metadata": {},
     "output_type": "execute_result"
    }
   ],
   "execution_count": 17
  }
 ],
 "metadata": {
  "kernelspec": {
   "display_name": "Python 3",
   "language": "python",
   "name": "python3"
  },
  "language_info": {
   "codemirror_mode": {
    "name": "ipython",
    "version": 2
   },
   "file_extension": ".py",
   "mimetype": "text/x-python",
   "name": "python",
   "nbconvert_exporter": "python",
   "pygments_lexer": "ipython2",
   "version": "2.7.6"
  }
 },
 "nbformat": 4,
 "nbformat_minor": 5
}
